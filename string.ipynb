{
 "cells": [
  {
   "cell_type": "code",
   "execution_count": 3,
   "metadata": {},
   "outputs": [
    {
     "data": {
      "text/plain": [
       "'Thirty Days Of Python'"
      ]
     },
     "execution_count": 3,
     "metadata": {},
     "output_type": "execute_result"
    }
   ],
   "source": [
    "# Concatenate the string 'Thirty', 'Days', 'Of', 'Python' to a single string, 'Thirty Days Of Python'.\n",
    "str1 = 'Thirty'+\" \"+'Days'+\" \"+'Of'+\" \"+'Python'\n",
    "str1"
   ]
  },
  {
   "cell_type": "code",
   "execution_count": 4,
   "metadata": {},
   "outputs": [
    {
     "data": {
      "text/plain": [
       "'Coding For All'"
      ]
     },
     "execution_count": 4,
     "metadata": {},
     "output_type": "execute_result"
    }
   ],
   "source": [
    "#Concatenate the string  to a single string, 'Coding For All'.\n",
    "str1 = 'Coding' +\" \"+ 'For' +\" \"+ 'All'\n",
    "str1"
   ]
  },
  {
   "cell_type": "code",
   "execution_count": 5,
   "metadata": {},
   "outputs": [
    {
     "data": {
      "text/plain": [
       "'Coding For All'"
      ]
     },
     "execution_count": 5,
     "metadata": {},
     "output_type": "execute_result"
    }
   ],
   "source": [
    "#Declare a variable named company and assign it to an initial value \"Coding For All\".\n",
    "company = \"Coding For All\"\n",
    "company"
   ]
  },
  {
   "cell_type": "code",
   "execution_count": 7,
   "metadata": {},
   "outputs": [
    {
     "name": "stdout",
     "output_type": "stream",
     "text": [
      "Coding For All\n"
     ]
    }
   ],
   "source": [
    "#Print the variable company using print().\n",
    "print(company)"
   ]
  },
  {
   "cell_type": "code",
   "execution_count": 9,
   "metadata": {},
   "outputs": [
    {
     "name": "stdout",
     "output_type": "stream",
     "text": [
      "14\n"
     ]
    }
   ],
   "source": [
    "#Print the length of the company string using len() method and print().\n",
    "print(len(company))"
   ]
  },
  {
   "cell_type": "code",
   "execution_count": 10,
   "metadata": {},
   "outputs": [
    {
     "name": "stdout",
     "output_type": "stream",
     "text": [
      "CODING FOR ALL\n"
     ]
    }
   ],
   "source": [
    "#Change all the characters to capital letters using upper() method.\n",
    "print(company.upper())"
   ]
  },
  {
   "cell_type": "code",
   "execution_count": 12,
   "metadata": {},
   "outputs": [
    {
     "name": "stdout",
     "output_type": "stream",
     "text": [
      "coding for all\n"
     ]
    }
   ],
   "source": [
    "#Change all the characters to lowercase letters using lower() method.\n",
    "print(company.lower())"
   ]
  },
  {
   "cell_type": "code",
   "execution_count": 17,
   "metadata": {},
   "outputs": [
    {
     "name": "stdout",
     "output_type": "stream",
     "text": [
      "Capitilize = Coding for all\n",
      "Title = Coding For All\n",
      "Swapcase = cODING fOR aLL\n"
     ]
    }
   ],
   "source": [
    "#Use capitalize(), title(), swapcase() methods to format the value of the string Coding For All.\n",
    "str1 = \"Coding For All\"\n",
    "print(\"Capitilize = {}\" .format(str1.capitalize()))\n",
    "print(\"Title = {}\" .format(str1.title()))\n",
    "print(\"Swapcase = {}\" .format(str1.swapcase()))"
   ]
  },
  {
   "cell_type": "code",
   "execution_count": 18,
   "metadata": {},
   "outputs": [
    {
     "name": "stdout",
     "output_type": "stream",
     "text": [
      "Coding\n"
     ]
    }
   ],
   "source": [
    "#Cut(slice) out the first word of Coding For All string.\n",
    "str1 = \"Coding For All string\"\n",
    "print(str1[0:6])"
   ]
  },
  {
   "cell_type": "code",
   "execution_count": 28,
   "metadata": {},
   "outputs": [
    {
     "name": "stdout",
     "output_type": "stream",
     "text": [
      "Coding exits in the string \n",
      "Coding exits in the string \n"
     ]
    }
   ],
   "source": [
    "#Check if Coding For All string contains a word Coding using the method index, find or other methods.\n",
    "str1 = \"Coding For All string\"\n",
    "\n",
    "#using find method, it returns -1 if not found\n",
    "result = str1.find(\"Coding\")\n",
    "if result != -1:\n",
    "    print(\"Coding exits in the string \")\n",
    "\n",
    "#using index method, it returns valueerror if not found\n",
    "result = str1.index(\"Coding\")\n",
    "if result >= 0:\n",
    "    print(\"Coding exits in the string \")\n",
    "    \n",
    "result = str1.count(\"Coding\")\n",
    "if result > 0:\n",
    "    print(\"Coding exits in the string \")"
   ]
  },
  {
   "cell_type": "code",
   "execution_count": 71,
   "metadata": {},
   "outputs": [
    {
     "name": "stdout",
     "output_type": "stream",
     "text": [
      "Python For All\n"
     ]
    }
   ],
   "source": [
    "#Replace the word coding in the string 'Coding For All' to Python.\n",
    "str1 = 'Coding For All'\n",
    "print(str1.replace(\"Coding\",'Python'))"
   ]
  },
  {
   "cell_type": "code",
   "execution_count": 72,
   "metadata": {},
   "outputs": [
    {
     "name": "stdout",
     "output_type": "stream",
     "text": [
      "Python for All\n"
     ]
    }
   ],
   "source": [
    "#Change Python for Everyone to Python for All using the replace method or other methods.\n",
    "str1 = 'Python for Everyone'\n",
    "print(str1.replace(\"Everyone\",\"All\"))"
   ]
  },
  {
   "cell_type": "code",
   "execution_count": 31,
   "metadata": {},
   "outputs": [
    {
     "name": "stdout",
     "output_type": "stream",
     "text": [
      "['Coding', 'For', 'All']\n"
     ]
    }
   ],
   "source": [
    "#Split the string 'Coding For All' using space as the separator (split()) .\n",
    "str1 = 'Coding For All'\n",
    "print(str1.split)"
   ]
  },
  {
   "cell_type": "code",
   "execution_count": 32,
   "metadata": {},
   "outputs": [
    {
     "name": "stdout",
     "output_type": "stream",
     "text": [
      "['Facebook', ' Google', ' Microsoft', ' Apple', ' IBM', ' Oracle', ' Amazon']\n"
     ]
    }
   ],
   "source": [
    "#\"Facebook, Google, Microsoft, Apple, IBM, Oracle, Amazon\" split the string at the comma.\n",
    "str1 = \"Facebook, Google, Microsoft, Apple, IBM, Oracle, Amazon\"\n",
    "print(str1.split(\",\"))"
   ]
  },
  {
   "cell_type": "code",
   "execution_count": 39,
   "metadata": {},
   "outputs": [
    {
     "name": "stdout",
     "output_type": "stream",
     "text": [
      "C\n"
     ]
    }
   ],
   "source": [
    "#What is the character at index 0 in the string Coding For All.\n",
    "str1 = 'Coding For All'\n",
    "print(str1[0])"
   ]
  },
  {
   "cell_type": "code",
   "execution_count": 35,
   "metadata": {},
   "outputs": [
    {
     "name": "stdout",
     "output_type": "stream",
     "text": [
      "13\n"
     ]
    }
   ],
   "source": [
    "#What is the last index of the string Coding For All.\n",
    "str1 = 'Coding For All'\n",
    "print(len(str1)-1)"
   ]
  },
  {
   "cell_type": "code",
   "execution_count": 38,
   "metadata": {},
   "outputs": [
    {
     "name": "stdout",
     "output_type": "stream",
     "text": [
      " \n"
     ]
    }
   ],
   "source": [
    "#What character is at index 10 in \"Coding For All\" string.\n",
    "str1 = 'Coding For All'\n",
    "print(str1[10])"
   ]
  },
  {
   "cell_type": "code",
   "execution_count": null,
   "metadata": {},
   "outputs": [],
   "source": [
    "#Create an acronym or an abbreviation for the name 'Python For Everyone'"
   ]
  },
  {
   "cell_type": "code",
   "execution_count": null,
   "metadata": {},
   "outputs": [],
   "source": [
    "#Create an acronym or an abbreviation for the name 'Coding For All'."
   ]
  },
  {
   "cell_type": "code",
   "execution_count": 40,
   "metadata": {},
   "outputs": [
    {
     "name": "stdout",
     "output_type": "stream",
     "text": [
      "0\n"
     ]
    }
   ],
   "source": [
    "#Use index to determine the position of the first occurrence of C in Coding For All.\n",
    "str1 = 'Coding For All'\n",
    "print(str1.index(\"C\"))"
   ]
  },
  {
   "cell_type": "code",
   "execution_count": null,
   "metadata": {},
   "outputs": [],
   "source": [
    "#Use index to determine the position of the first occurrence of F in Coding For All.\n",
    "str1 = 'Coding For All'\n",
    "print(str1.index(\"F\"))"
   ]
  },
  {
   "cell_type": "code",
   "execution_count": 41,
   "metadata": {},
   "outputs": [
    {
     "name": "stdout",
     "output_type": "stream",
     "text": [
      "19\n"
     ]
    }
   ],
   "source": [
    "#Use rfind to determine the position of the last occurrence of l in Coding For All People.\n",
    "str1 = \"Coding For All People\"\n",
    "print(str1.rindex(\"l\"))"
   ]
  },
  {
   "cell_type": "code",
   "execution_count": 43,
   "metadata": {},
   "outputs": [
    {
     "name": "stdout",
     "output_type": "stream",
     "text": [
      "32\n"
     ]
    }
   ],
   "source": [
    "#Use index or find to find the position of the first occurrence of the word 'because' in the following sentence: 'You cannot end a sentence with because because because is a conjunction\n",
    "sentence = 'You cannot end a sentence with because because because is a conjunction'\n",
    "print(sentence.index(\"because\") + 1)"
   ]
  },
  {
   "cell_type": "code",
   "execution_count": 45,
   "metadata": {},
   "outputs": [
    {
     "name": "stdout",
     "output_type": "stream",
     "text": [
      "48\n"
     ]
    }
   ],
   "source": [
    "#Use rindex to find the position of the last occurrence of the word because in the following sentence: 'You cannot end a sentence with because because because is a conjunction'\n",
    "sentence = 'You cannot end a sentence with because because because is a conjunction'\n",
    "print(sentence.rindex(\"because\") + 1)"
   ]
  },
  {
   "cell_type": "code",
   "execution_count": 59,
   "metadata": {},
   "outputs": [
    {
     "name": "stdout",
     "output_type": "stream",
     "text": [
      "because because because\n"
     ]
    }
   ],
   "source": [
    "#Slice out the phrase 'because because because' in the following sentence: 'You cannot end a sentence with because because because is a conjunction'\n",
    "sentence = 'You cannot end a sentence with because because because is a conjunction'\n",
    "strt = sentence.index(\"because\")\n",
    "end = sentence.rindex (\"because\")\n",
    "print(sentence[strt:(end+len(\"because\"))])"
   ]
  },
  {
   "cell_type": "code",
   "execution_count": 60,
   "metadata": {},
   "outputs": [
    {
     "name": "stdout",
     "output_type": "stream",
     "text": [
      "True\n"
     ]
    }
   ],
   "source": [
    "#Does ''Coding For All' start with a substring Coding?\n",
    "str1 = 'Coding For All'\n",
    "print(str1.startswith(\"Coding\"))"
   ]
  },
  {
   "cell_type": "code",
   "execution_count": 61,
   "metadata": {},
   "outputs": [
    {
     "name": "stdout",
     "output_type": "stream",
     "text": [
      "False\n"
     ]
    }
   ],
   "source": [
    "#Does ''Coding For All' ends with a substring Coding?\n",
    "str1 = 'Coding For All'\n",
    "print(str1.endswith(\"Coding\"))"
   ]
  },
  {
   "cell_type": "code",
   "execution_count": 62,
   "metadata": {},
   "outputs": [
    {
     "name": "stdout",
     "output_type": "stream",
     "text": [
      "Coding For All\n"
     ]
    }
   ],
   "source": [
    "#' Coding For All ' , remove the left and right trailing spaces in the given string.\n",
    "str1 = ' Coding For All '\n",
    "print(str1.strip())"
   ]
  },
  {
   "cell_type": "code",
   "execution_count": 65,
   "metadata": {},
   "outputs": [
    {
     "name": "stdout",
     "output_type": "stream",
     "text": [
      "False\n",
      "True\n"
     ]
    }
   ],
   "source": [
    "#Which one of the following variables return True when we use the method isidentifier():\n",
    "#30DaysOfPython\n",
    "#thirty_days_of_python\n",
    "var1 = \"30DaysOfPython\"\n",
    "print(var1.isidentifier())\n",
    "var1 = \"thirty_days_of_python\"\n",
    "print(var1.isidentifier())"
   ]
  },
  {
   "cell_type": "code",
   "execution_count": 66,
   "metadata": {},
   "outputs": [
    {
     "name": "stdout",
     "output_type": "stream",
     "text": [
      "Django# Flask# Bottle# Pyramid# Falcon\n"
     ]
    }
   ],
   "source": [
    "#The following list contains the names of some of python libraries: ['Django', 'Flask', 'Bottle', 'Pyramid', 'Falcon']. Join the list with a hash with space string.\n",
    "l1 = ['Django', 'Flask', 'Bottle', 'Pyramid', 'Falcon']\n",
    "print(\"# \".join(l1))"
   ]
  },
  {
   "cell_type": "code",
   "execution_count": 68,
   "metadata": {},
   "outputs": [
    {
     "name": "stdout",
     "output_type": "stream",
     "text": [
      "I just wonder what is next.\n"
     ]
    }
   ],
   "source": [
    "#Use the new line escape sequence to separate the following sentences. I am enjoying this challenge.I just wonder what is next.\n",
    "print(\"I am enjoying this challenge. \\nI just wonder what is next.\")"
   ]
  },
  {
   "cell_type": "code",
   "execution_count": null,
   "metadata": {},
   "outputs": [],
   "source": [
    "Slice out the phrase 'because because because' in the following sentence: 'You cannot end a sentence with because because because is a conjunction'\n",
    "Find the position of the first occurrence of the word 'because' in the following sentence: 'You cannot end a sentence with because because because is a conjunction'\n",
    "Slice out the phrase 'because because because' in the following sentence: 'You cannot end a sentence with because because because is a conjunction'\n",
    "Does ''Coding For All' start with a substring Coding?\n",
    "Does 'Coding For All' end with a substring coding?\n",
    "' Coding For All ' , remove the left and right trailing spaces in the given string.\n",
    "Which one of the following variables return True when we use the method isidentifier():\n",
    "30DaysOfPython\n",
    "thirty_days_of_python\n",
    "The following list contains the names of some of python libraries: ['Django', 'Flask', 'Bottle', 'Pyramid', 'Falcon']. Join the list with a hash with space string.\n",
    "Use the new line escape sequence to separate the following sentences."
   ]
  },
  {
   "cell_type": "code",
   "execution_count": 70,
   "metadata": {},
   "outputs": [
    {
     "name": "stdout",
     "output_type": "stream",
     "text": [
      "The area of a cricle with radius 10 is 314.000000 meters square\n"
     ]
    }
   ],
   "source": [
    "#Use the string formating method to display the following:\n",
    "radius = 10\n",
    "area = 3.14 * radius ** 2\n",
    "print(\"The area of a cricle with radius {} is {} meters square\".format(radius,area))"
   ]
  },
  {
   "cell_type": "code",
   "execution_count": null,
   "metadata": {},
   "outputs": [],
   "source": []
  }
 ],
 "metadata": {
  "kernelspec": {
   "display_name": "Python 3",
   "language": "python",
   "name": "python3"
  },
  "language_info": {
   "codemirror_mode": {
    "name": "ipython",
    "version": 3
   },
   "file_extension": ".py",
   "mimetype": "text/x-python",
   "name": "python",
   "nbconvert_exporter": "python",
   "pygments_lexer": "ipython3",
   "version": "3.8.5"
  }
 },
 "nbformat": 4,
 "nbformat_minor": 4
}
