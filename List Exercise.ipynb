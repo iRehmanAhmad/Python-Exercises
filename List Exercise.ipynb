{
 "cells": [
  {
   "cell_type": "code",
   "execution_count": 2,
   "metadata": {},
   "outputs": [
    {
     "data": {
      "text/plain": [
       "[]"
      ]
     },
     "execution_count": 2,
     "metadata": {},
     "output_type": "execute_result"
    }
   ],
   "source": [
    "#Declare an empty list\n",
    "l1 = list()\n",
    "l1"
   ]
  },
  {
   "cell_type": "code",
   "execution_count": 3,
   "metadata": {},
   "outputs": [],
   "source": [
    "#Declare a list with more than 5 items\n",
    "l1= [1,2,3,True,\"Hi\"]"
   ]
  },
  {
   "cell_type": "code",
   "execution_count": 4,
   "metadata": {},
   "outputs": [
    {
     "name": "stdout",
     "output_type": "stream",
     "text": [
      "5\n"
     ]
    }
   ],
   "source": [
    "#Find the length of your list\n",
    "print(len(l1))"
   ]
  },
  {
   "cell_type": "code",
   "execution_count": 9,
   "metadata": {},
   "outputs": [
    {
     "name": "stdout",
     "output_type": "stream",
     "text": [
      "First item: 1\n",
      "Middle item: 3\n",
      "Last item: Hi\n"
     ]
    }
   ],
   "source": [
    "#Get the first item, the middle item and the last item of the list\n",
    "print(\"First item:\", l1[0])\n",
    "print(\"Middle item:\", l1[ len(l1)//2])\n",
    "print(\"Last item:\", l1[-1])"
   ]
  },
  {
   "cell_type": "code",
   "execution_count": 10,
   "metadata": {},
   "outputs": [
    {
     "data": {
      "text/plain": [
       "['Ali', 32, 5.7, 'Single', 'Pakistan']"
      ]
     },
     "execution_count": 10,
     "metadata": {},
     "output_type": "execute_result"
    }
   ],
   "source": [
    "#Declare a list called mixed_data_types, put your(name, age, height, marital status, address)\n",
    "mixed_data_types = [\"Ali\", 32, 5.7, \"Single\", \"Pakistan\"]\n",
    "mixed_data_types"
   ]
  },
  {
   "cell_type": "code",
   "execution_count": 13,
   "metadata": {},
   "outputs": [],
   "source": [
    "#Declare a list variable named it_companies and assign initial values Facebook, Google, Microsoft, Apple, IBM, Oracle and Amazon.\n",
    "it_companies = ['Facebook', 'Google', 'Microsoft', 'Apple', 'IBM', 'Oracle', 'Amazon']"
   ]
  },
  {
   "cell_type": "code",
   "execution_count": 14,
   "metadata": {},
   "outputs": [
    {
     "name": "stdout",
     "output_type": "stream",
     "text": [
      "['Facebook', 'Google', 'Microsoft', 'Apple', 'IBM', 'Oracle', 'Amazon']\n"
     ]
    }
   ],
   "source": [
    "#Print the list using print()\n",
    "print(it_companies)"
   ]
  },
  {
   "cell_type": "code",
   "execution_count": 16,
   "metadata": {},
   "outputs": [
    {
     "name": "stdout",
     "output_type": "stream",
     "text": [
      "7\n"
     ]
    }
   ],
   "source": [
    "#Print the number of companies in the list\n",
    "print(len(it_companies))"
   ]
  },
  {
   "cell_type": "code",
   "execution_count": 18,
   "metadata": {},
   "outputs": [
    {
     "name": "stdout",
     "output_type": "stream",
     "text": [
      "First item: Facebook\n",
      "Middle item: Microsoft\n",
      "Last item: Amazon\n"
     ]
    }
   ],
   "source": [
    "#Print the first, middle and last company\n",
    "print(\"First item:\", it_companies[0])\n",
    "print(\"Middle item:\", it_companies[len(l1)//2])\n",
    "print(\"Last item:\", it_companies[-1])"
   ]
  },
  {
   "cell_type": "code",
   "execution_count": 19,
   "metadata": {},
   "outputs": [
    {
     "name": "stdout",
     "output_type": "stream",
     "text": [
      "['My Tech', 'Google', 'Microsoft', 'Apple', 'IBM', 'Oracle', 'Amazon']\n"
     ]
    }
   ],
   "source": [
    "#Print the list after modifying one of the companies\n",
    "it_companies[0] = \"My Tech\"\n",
    "print(it_companies)"
   ]
  },
  {
   "cell_type": "code",
   "execution_count": 20,
   "metadata": {},
   "outputs": [
    {
     "data": {
      "text/plain": [
       "['My Tech',\n",
       " 'Google',\n",
       " 'Microsoft',\n",
       " 'Apple',\n",
       " 'IBM',\n",
       " 'Oracle',\n",
       " 'Amazon',\n",
       " 'Your Tech']"
      ]
     },
     "execution_count": 20,
     "metadata": {},
     "output_type": "execute_result"
    }
   ],
   "source": [
    "#Add an IT company to it_companies\n",
    "it_companies.append(\"Your Tech\")\n",
    "it_companies"
   ]
  },
  {
   "cell_type": "code",
   "execution_count": 26,
   "metadata": {},
   "outputs": [
    {
     "name": "stdout",
     "output_type": "stream",
     "text": [
      "['My Tech', 'Google', 'Microsoft', 'Apple', 'Siwa Tech', 'Siwa Tech', 'IBM', 'Oracle', 'Amazon', 'Your Tech']\n"
     ]
    }
   ],
   "source": [
    "#Insert an IT company in the middle of the companies list\n",
    "middle = len(it_companies)//2\n",
    "it_companies.insert(middle,\"Siwa Tech\")\n",
    "print(it_companies)"
   ]
  },
  {
   "cell_type": "code",
   "execution_count": 28,
   "metadata": {},
   "outputs": [
    {
     "name": "stdout",
     "output_type": "stream",
     "text": [
      "MY TECH\n"
     ]
    }
   ],
   "source": [
    "#Change one of the it_companies names to uppercase (IBM excluded!)\n",
    "print(it_companies[0].upper())"
   ]
  },
  {
   "cell_type": "code",
   "execution_count": 30,
   "metadata": {},
   "outputs": [
    {
     "name": "stdout",
     "output_type": "stream",
     "text": [
      "My Tech# Google# Microsoft# Apple# Siwa Tech# Siwa Tech# IBM# Oracle# Amazon# Your Tech\n"
     ]
    }
   ],
   "source": [
    "#Join the it_companies with a string '#;\n",
    "print(\"# \".join(it_companies[::]))"
   ]
  },
  {
   "cell_type": "code",
   "execution_count": 31,
   "metadata": {},
   "outputs": [
    {
     "name": "stdout",
     "output_type": "stream",
     "text": [
      "True\n"
     ]
    }
   ],
   "source": [
    "#Check if a certain company exists in the it_companies list.\n",
    "print(\"IBM\" in it_companies)"
   ]
  },
  {
   "cell_type": "code",
   "execution_count": 33,
   "metadata": {},
   "outputs": [
    {
     "data": {
      "text/plain": [
       "['Amazon',\n",
       " 'Apple',\n",
       " 'Google',\n",
       " 'IBM',\n",
       " 'Microsoft',\n",
       " 'My Tech',\n",
       " 'Oracle',\n",
       " 'Siwa Tech',\n",
       " 'Siwa Tech',\n",
       " 'Your Tech']"
      ]
     },
     "execution_count": 33,
     "metadata": {},
     "output_type": "execute_result"
    }
   ],
   "source": [
    "#Sort the list using sort() method\n",
    "it_companies.sort()\n",
    "it_companies"
   ]
  },
  {
   "cell_type": "code",
   "execution_count": 40,
   "metadata": {},
   "outputs": [
    {
     "data": {
      "text/plain": [
       "['Your Tech',\n",
       " 'Siwa Tech',\n",
       " 'Siwa Tech',\n",
       " 'Oracle',\n",
       " 'My Tech',\n",
       " 'Microsoft',\n",
       " 'IBM',\n",
       " 'Google',\n",
       " 'Apple',\n",
       " 'Amazon']"
      ]
     },
     "execution_count": 40,
     "metadata": {},
     "output_type": "execute_result"
    }
   ],
   "source": [
    "#Reverse the list in descending order using reverse() method\n",
    "it_companies.reverse()\n",
    "it_companies"
   ]
  },
  {
   "cell_type": "code",
   "execution_count": 42,
   "metadata": {},
   "outputs": [
    {
     "name": "stdout",
     "output_type": "stream",
     "text": [
      "['Your Tech', 'Siwa Tech', 'Siwa Tech']\n"
     ]
    }
   ],
   "source": [
    "#Slice out the first 3 companies from the list\n",
    "print(it_companies[0:3])"
   ]
  },
  {
   "cell_type": "code",
   "execution_count": 44,
   "metadata": {},
   "outputs": [
    {
     "name": "stdout",
     "output_type": "stream",
     "text": [
      "['Google', 'Apple', 'Amazon']\n"
     ]
    }
   ],
   "source": [
    "#Slice out the last 3 companies from the list\n",
    "print(it_companies[-3:])"
   ]
  },
  {
   "cell_type": "code",
   "execution_count": 46,
   "metadata": {},
   "outputs": [],
   "source": [
    "#Remove the first IT company from the list\n",
    "it_companies.remove(it_companies[0])\n"
   ]
  },
  {
   "cell_type": "code",
   "execution_count": 49,
   "metadata": {},
   "outputs": [],
   "source": [
    "#Remove the middle IT company or companies from the list\n",
    "it_companies.remove(it_companies[len(it_companies)//2])"
   ]
  },
  {
   "cell_type": "code",
   "execution_count": null,
   "metadata": {},
   "outputs": [],
   "source": [
    "#Remove the last IT company from the list\n",
    "it_companies.remove(it_companies[-1])"
   ]
  },
  {
   "cell_type": "code",
   "execution_count": 51,
   "metadata": {},
   "outputs": [
    {
     "data": {
      "text/plain": [
       "[]"
      ]
     },
     "execution_count": 51,
     "metadata": {},
     "output_type": "execute_result"
    }
   ],
   "source": [
    "#Remove all IT companies from the list\n",
    "it_companies.clear()\n",
    "it_companies"
   ]
  },
  {
   "cell_type": "code",
   "execution_count": 53,
   "metadata": {},
   "outputs": [
    {
     "ename": "NameError",
     "evalue": "name 'it_companies' is not defined",
     "output_type": "error",
     "traceback": [
      "\u001b[1;31m---------------------------------------------------------------------------\u001b[0m",
      "\u001b[1;31mNameError\u001b[0m                                 Traceback (most recent call last)",
      "\u001b[1;32m<ipython-input-53-542cae890ffb>\u001b[0m in \u001b[0;36m<module>\u001b[1;34m\u001b[0m\n\u001b[0;32m      1\u001b[0m \u001b[1;31m#Destroy the IT companies list\u001b[0m\u001b[1;33m\u001b[0m\u001b[1;33m\u001b[0m\u001b[1;33m\u001b[0m\u001b[0m\n\u001b[0;32m      2\u001b[0m \u001b[1;32mdel\u001b[0m \u001b[0mit_companies\u001b[0m\u001b[1;33m\u001b[0m\u001b[1;33m\u001b[0m\u001b[0m\n\u001b[1;32m----> 3\u001b[1;33m \u001b[0mit_companies\u001b[0m\u001b[1;33m\u001b[0m\u001b[1;33m\u001b[0m\u001b[0m\n\u001b[0m",
      "\u001b[1;31mNameError\u001b[0m: name 'it_companies' is not defined"
     ]
    }
   ],
   "source": [
    "#Destroy the IT companies list\n",
    "del it_companies\n",
    "it_companies"
   ]
  },
  {
   "cell_type": "code",
   "execution_count": 65,
   "metadata": {},
   "outputs": [
    {
     "data": {
      "text/plain": [
       "['HTML', 'CSS', 'JS', 'React', 'Redux', 'Node', 'Express', 'MongoDB']"
      ]
     },
     "execution_count": 65,
     "metadata": {},
     "output_type": "execute_result"
    }
   ],
   "source": [
    "#Join the following lists:front_end = ['HTML', 'CSS', 'JS', 'React', 'Redux'],back_end = ['Node','Express', 'MongoDB']\n",
    "front_end = ['HTML', 'CSS', 'JS', 'React', 'Redux']\n",
    "back_end = ['Node','Express', 'MongoDB']\n",
    "front_end.extend(back_end)\n",
    "front_end"
   ]
  },
  {
   "cell_type": "code",
   "execution_count": 69,
   "metadata": {},
   "outputs": [
    {
     "data": {
      "text/plain": [
       "['HTML',\n",
       " 'CSS',\n",
       " 'JS',\n",
       " 'React',\n",
       " ['Python', 'SQL'],\n",
       " 'Redux',\n",
       " 'Node',\n",
       " 'Express',\n",
       " 'MongoDB']"
      ]
     },
     "execution_count": 69,
     "metadata": {},
     "output_type": "execute_result"
    }
   ],
   "source": [
    "#After joining the lists in previous question. Copy the joined list and assign it to a variable full_stack. Then insert Python and SQL after Redux.\n",
    "full_stack = list()\n",
    "front_end = ['HTML', 'CSS', 'JS', 'React', 'Redux']\n",
    "back_end = ['Node','Express', 'MongoDB']\n",
    "#full_stack = front_end.extend(back_end) it will not work \n",
    "full_stack = front_end + back_end \n",
    "new_items = [\"Python\", \"SQL\"]\n",
    "full_stack.insert(4,new_items)\n",
    "full_stack"
   ]
  },
  {
   "cell_type": "code",
   "execution_count": 76,
   "metadata": {},
   "outputs": [
    {
     "name": "stdout",
     "output_type": "stream",
     "text": [
      "Average =  22.75\n",
      "Range =  7\n"
     ]
    }
   ],
   "source": [
    "#The following is a list of 10 students ages: ages = [19, 22, 19, 24, 20, 25, 26, 24, 25, 24]\n",
    "ages = [19, 22, 19, 24, 20, 25, 26, 24, 25, 24]\n",
    "#Sort the list and find the min and max age\n",
    "ages.sort()\n",
    "min = ages[0]\n",
    "max = ages[-1]\n",
    "#Add the min age and the max age again to the list\n",
    "ages.append(min)\n",
    "ages.append(max)\n",
    "#ages\n",
    "#Find the average age (sum of all items divided by their number )\n",
    "sum = 0\n",
    "for i in range(len(ages)):\n",
    "    sum = sum + ages[i]\n",
    "average = sum / len(ages)\n",
    "print(\"Average = \", average)\n",
    "    \n",
    "#Find the range of the ages (max minus min)\n",
    "print(\"Range = \", max - min)\n",
    "#Compare the value of (min - average) and (max - average), use abs() method"
   ]
  },
  {
   "cell_type": "code",
   "execution_count": null,
   "metadata": {},
   "outputs": [],
   "source": [
    "\n",
    "\n",
    "\n",
    "\n",
    "\n",
    "\n",
    "\n",
    "\n",
    "\n"
   ]
  }
 ],
 "metadata": {
  "kernelspec": {
   "display_name": "Python 3",
   "language": "python",
   "name": "python3"
  },
  "language_info": {
   "codemirror_mode": {
    "name": "ipython",
    "version": 3
   },
   "file_extension": ".py",
   "mimetype": "text/x-python",
   "name": "python",
   "nbconvert_exporter": "python",
   "pygments_lexer": "ipython3",
   "version": "3.8.5"
  }
 },
 "nbformat": 4,
 "nbformat_minor": 4
}
